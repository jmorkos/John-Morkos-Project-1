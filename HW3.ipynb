{
  "nbformat": 4,
  "nbformat_minor": 0,
  "metadata": {
    "colab": {
      "name": "HW3.ipynb",
      "provenance": [],
      "collapsed_sections": [],
      "authorship_tag": "ABX9TyP6BSuRVP7++QedB9YvW85T",
      "include_colab_link": true
    },
    "kernelspec": {
      "name": "python3",
      "display_name": "Python 3"
    }
  },
  "cells": [
    {
      "cell_type": "markdown",
      "metadata": {
        "id": "view-in-github",
        "colab_type": "text"
      },
      "source": [
        "<a href=\"https://colab.research.google.com/github/jmorkos/John-Morkos-Project-1/blob/master/HW3.ipynb\" target=\"_parent\"><img src=\"https://colab.research.google.com/assets/colab-badge.svg\" alt=\"Open In Colab\"/></a>"
      ]
    },
    {
      "cell_type": "code",
      "metadata": {
        "id": "ND1QFy5ZkzCV",
        "colab_type": "code",
        "colab": {
          "base_uri": "https://localhost:8080/",
          "height": 561
        },
        "outputId": "4cd734f0-98ef-42d2-c5fb-ce8a4479d289"
      },
      "source": [
        "#Problem 1: Scatterplot of Left Telencephalon and Right Telencephalon\n",
        "import numpy as np\n",
        "import matplotlib.pyplot as plt\n",
        "import pandas as pd\n",
        "urlfile='https://raw.githubusercontent.com/bcaffo/ds4bme_intro/master/data/kirby21.csv'\n",
        "data=pd.read_csv(urlfile)\n",
        "data=pd.pivot_table(data, index='id', values='volume', columns='roi')\n",
        "vol_L=data[\"Mesencephalon_L\"]\n",
        "vol_R=data[\"Mesencephalon_R\"]\n",
        "print(vol_L)\n",
        "print(data.head())\n",
        "print(data.shape)\n",
        "\n",
        "\n",
        "\n"
      ],
      "execution_count": 2,
      "outputs": [
        {
          "output_type": "stream",
          "text": [
            "id\n",
            "127    4943.0\n",
            "142    5279.0\n",
            "239    4534.0\n",
            "346    5007.0\n",
            "422    6396.0\n",
            "492    5792.0\n",
            "501    4940.0\n",
            "505    4484.0\n",
            "656    6066.0\n",
            "679    5433.0\n",
            "742    5073.0\n",
            "800    3694.0\n",
            "814    5470.0\n",
            "815    5267.0\n",
            "849    5020.0\n",
            "906    4842.0\n",
            "913    5680.0\n",
            "916    5667.0\n",
            "934    4198.0\n",
            "959    5230.0\n",
            "Name: Mesencephalon_L, dtype: float64\n",
            "roi    ACR_L    ACR_R  ...  subgenual_ACC_L  subgenual_ACC_R\n",
            "id                     ...                                  \n",
            "127  12600.0  13280.0  ...           1663.5           1689.5\n",
            "142  14776.0  14238.0  ...           1602.5           1477.5\n",
            "239  10318.0  11237.0  ...           1542.0           1525.0\n",
            "346  13919.0  15528.0  ...           1953.0           1577.0\n",
            "422  12366.0  11993.0  ...           1298.5           1056.5\n",
            "\n",
            "[5 rows x 426 columns]\n",
            "(20, 426)\n"
          ],
          "name": "stdout"
        }
      ]
    },
    {
      "cell_type": "code",
      "metadata": {
        "id": "iU5q907pLUQn",
        "colab_type": "code",
        "colab": {
          "base_uri": "https://localhost:8080/",
          "height": 1000
        },
        "outputId": "b0b22069-e75f-4080-a686-84a435e4b02c"
      },
      "source": [
        "\n",
        "#Scatterplot\n",
        "print(vol_L)\n",
        "print(vol_R)\n",
        "plt.scatter(vol_L, vol_R)"
      ],
      "execution_count": 3,
      "outputs": [
        {
          "output_type": "stream",
          "text": [
            "id\n",
            "127    4943.0\n",
            "142    5279.0\n",
            "239    4534.0\n",
            "346    5007.0\n",
            "422    6396.0\n",
            "492    5792.0\n",
            "501    4940.0\n",
            "505    4484.0\n",
            "656    6066.0\n",
            "679    5433.0\n",
            "742    5073.0\n",
            "800    3694.0\n",
            "814    5470.0\n",
            "815    5267.0\n",
            "849    5020.0\n",
            "906    4842.0\n",
            "913    5680.0\n",
            "916    5667.0\n",
            "934    4198.0\n",
            "959    5230.0\n",
            "Name: Mesencephalon_L, dtype: float64\n",
            "id\n",
            "127    5325.0\n",
            "142    5237.0\n",
            "239    4536.0\n",
            "346    4781.0\n",
            "422    5867.0\n",
            "492    5943.0\n",
            "501    5178.0\n",
            "505    4614.0\n",
            "656    6040.0\n",
            "679    5547.0\n",
            "742    5422.0\n",
            "800    3592.0\n",
            "814    5502.0\n",
            "815    5232.0\n",
            "849    5082.0\n",
            "906    4722.0\n",
            "913    5706.0\n",
            "916    5693.0\n",
            "934    4186.0\n",
            "959    5241.0\n",
            "Name: Mesencephalon_R, dtype: float64\n"
          ],
          "name": "stdout"
        },
        {
          "output_type": "execute_result",
          "data": {
            "text/plain": [
              "<matplotlib.collections.PathCollection at 0x7f367379ab38>"
            ]
          },
          "metadata": {
            "tags": []
          },
          "execution_count": 3
        },
        {
          "output_type": "display_data",
          "data": {
            "image/png": "[encoded data removed]",
            "text/plain": [
              "<Figure size 432x288 with 1 Axes>"
            ]
          },
          "metadata": {
            "tags": [],
            "needs_background": "light"
          }
        }
      ]
    },
    {
      "cell_type": "code",
      "metadata": {
        "id": "mrVSdccKINCk",
        "colab_type": "code",
        "colab": {
          "base_uri": "https://localhost:8080/",
          "height": 301
        },
        "outputId": "fbdd8726-ae93-45c0-cdeb-d31b05f4418e"
      },
      "source": [
        "#Problem 2:vol_L as independent variable\n",
        "print(np.mean(vol_R))\n",
        "vol_L=vol_L-np.mean(vol_L)\n",
        "vol_R=vol_R-np.mean(vol_R)\n",
        "\n",
        "b=sum(vol_L*vol_R)/sum(vol_L**2)\n",
        "plt.plot(vol_L, vol_R,'o')\n",
        "t=np.linspace(-3000,3000)\n",
        "plt.plot(t,t * b, '--r')"
      ],
      "execution_count": 4,
      "outputs": [
        {
          "output_type": "stream",
          "text": [
            "5172.3\n"
          ],
          "name": "stdout"
        },
        {
          "output_type": "execute_result",
          "data": {
            "text/plain": [
              "[<matplotlib.lines.Line2D at 0x7f3673291908>]"
            ]
          },
          "metadata": {
            "tags": []
          },
          "execution_count": 4
        },
        {
          "output_type": "display_data",
          "data": {
            "image/png": "[encoded data removed]",
            "text/plain": [
              "<Figure size 432x288 with 1 Axes>"
            ]
          },
          "metadata": {
            "tags": [],
            "needs_background": "light"
          }
        }
      ]
    },
    {
      "cell_type": "code",
      "metadata": {
        "id": "HGSvOzZ-LNlU",
        "colab_type": "code",
        "colab": {
          "base_uri": "https://localhost:8080/",
          "height": 282
        },
        "outputId": "83e27eed-2b6c-4f41-d662-eeaa6f82c57b"
      },
      "source": [
        "#Problem 2: vol_R as independent variable\n",
        "\n",
        "plt.plot(vol_R, vol_L,'o')\n",
        "b1=sum(vol_L*vol_R)/sum(vol_R**2)\n",
        "plt.plot(vol_R,vol_L, 'o')\n",
        "t=np.linspace(-3000,3000)\n",
        "plt.plot(t, t*b1, \"--b\")"
      ],
      "execution_count": 5,
      "outputs": [
        {
          "output_type": "execute_result",
          "data": {
            "text/plain": [
              "[<matplotlib.lines.Line2D at 0x7f3671fcd080>]"
            ]
          },
          "metadata": {
            "tags": []
          },
          "execution_count": 5
        },
        {
          "output_type": "display_data",
          "data": {
            "image/png": "[encoded data removed]",
            "text/plain": [
              "<Figure size 432x288 with 1 Axes>"
            ]
          },
          "metadata": {
            "tags": [],
            "needs_background": "light"
          }
        }
      ]
    },
    {
      "cell_type": "code",
      "metadata": {
        "id": "Rzzl5nDaXMSx",
        "colab_type": "code",
        "colab": {}
      },
      "source": [
        "#Problem 3: The slope B  would be altered by a factor of 1/c."
      ],
      "execution_count": 162,
      "outputs": []
    },
    {
      "cell_type": "markdown",
      "metadata": {
        "id": "leC8fqc5HeEa",
        "colab_type": "text"
      },
      "source": [
        "Problem 4:\n",
        "We take the derivative of the expression $\\sum_{i=1}^n({Y_i-\\beta_1X_i-\\beta_0})^2$ with respect to $B_0$ and $B_1$\n",
        "\n",
        "# =$\\frac{\\partial E}{\\partial B_0}\\sum_{i=1}^n({Y_i-\\beta_1X_i-\\beta_0})^2$\n",
        "=$-2(\\sum_{i\\in(Group 0)}(Y_i-B_0)+\\sum_{i\\in(Group 1)}(Y_i-B_0-B_1)=0$\n",
        "$(\\sum_{i\\in(Group 0)}{Y_i-B_0}+\\sum_{i\\in(Group 1)}{Y_i-B_0-B_1}=0$\n",
        "\n",
        "For $\\frac{\\partial E}{\\partial B_1}\\sum_{i=1}^n({Y_i-\\beta_1X_i-\\beta_0})^2$=\n",
        "\n",
        "=$\\sum_{i=1}^{n}(Y_i-\\beta_1X_i-\\beta_0)X_i$\n",
        "\n",
        "=$-2(\\sum_{i\\in(Group 0)}(Y_i-B_0)X_i+\\sum_{i\\in(Group 1)}(Y_i-\\beta_1X_i-\\beta_0)X_i$\n",
        "\n",
        "Since $X_i=0$ in Group Zero\n",
        "\n",
        "$\\sum_{i\\in(Group 1)}(Y_i-\\beta_1-\\beta_0)$=0\n",
        "\n",
        "Combining the two equations (and let $n_{zero}$ be number of elements in Group 0) :\n",
        "\n",
        "$\\sum_{i\\in(Group 0)}(Y_i-B_0)=0$\n",
        "\n",
        "$\\sum_{i\\in(Group 0)}{Y_i}-n_{zero}B_0$=0\n",
        "\n",
        "$B_0=\\frac{\\sum_{i\\in(Group 0)}{Y_i}}{n_{zero}}$\n",
        "$B_0 = \\textrm{mean of elements in Group zero}=\\mu_{zero}$\n",
        "\n",
        "Substituting in our expression for $B_0$\n",
        "\n",
        "$\\sum_{i\\in(Group 1)}{Y_i-\\mu_{zero}}-B_1=0$\n",
        "\n",
        "Similar to above:\n",
        "\n",
        "$B_1=\\mu_{one}-\\mu_{zero} $\n",
        "\n",
        "Our final expression could be written as:\n",
        "\n",
        "$Y=(\\mu_{zero}+X(\\mu_{one}-\\mu_{zero}))$\n",
        "\n",
        "Plugging in respective values of X for the different groups\n",
        "\n",
        "When X=0: $Y=\\mu_{zero}$\n",
        "\n",
        "When X=1: $Y =\\mu_{one}$\n",
        "\n",
        "This fits the original claim of the problem\n",
        "\n",
        "\n",
        "\n",
        "\n",
        "\n",
        "\n",
        "\n",
        "\n",
        "\n",
        "\n"
      ]
    },
    {
      "cell_type": "code",
      "metadata": {
        "id": "U-oKgwi5GxoL",
        "colab_type": "code",
        "colab": {}
      },
      "source": [
        "#Problem 5\n",
        "def LogReg(X,Y):\n",
        "  elements=len(Y)\n",
        "  demean_X=(X-np.mean(X)).tolist()\n",
        "  demean_Y=(Y-np.mean(Y)).tolist()\n",
        "  pearson1=np.corrcoef(X,Y).tolist()\n",
        "  print(np.std(X))\n",
        "  print(pearson1[0][1])\n",
        "  B_one=pearson1[0][1]*np.std(Y)/np.std(X)\n",
        "  B_zero=np.mean(Y)-B_one*np.mean(X)\n",
        "  print(B_one)\n",
        "  print(B_zero)\n",
        "  return B_one, B_zero\n"
      ],
      "execution_count": 14,
      "outputs": []
    },
    {
      "cell_type": "code",
      "metadata": {
        "id": "MF8EFFhk3H28",
        "colab_type": "code",
        "colab": {
          "base_uri": "https://localhost:8080/",
          "height": 350
        },
        "outputId": "c6ce80cd-4a22-4db6-c1c5-aa6fbf3191d0"
      },
      "source": [
        "#Problem 6 (Volume L as X)\n",
        "vol_Di_L=data[\"Diencephalon_L\"]\n",
        "vol_Di_R=data[\"Diencephalon_R\"]\n",
        "plt.scatter(vol_Di_L, vol_Di_R)\n",
        "f=list(LogReg(vol_Di_L, vol_Di_R))\n",
        "t=np.linspace(3000,15000)\n",
        "\n",
        "plt.plot(t, t*f[0]+f[1], \"--r\")\n",
        "\n"
      ],
      "execution_count": 17,
      "outputs": [
        {
          "output_type": "stream",
          "text": [
            "754.1995027842435\n",
            "0.9627048718978266\n",
            "0.8681422329073244\n",
            "1267.7478646599275\n"
          ],
          "name": "stdout"
        },
        {
          "output_type": "execute_result",
          "data": {
            "text/plain": [
              "[<matplotlib.lines.Line2D at 0x7f3669ec51d0>]"
            ]
          },
          "metadata": {
            "tags": []
          },
          "execution_count": 17
        },
        {
          "output_type": "display_data",
          "data": {
            "image/png": "[encoded data removed]",
            "text/plain": [
              "<Figure size 432x288 with 1 Axes>"
            ]
          },
          "metadata": {
            "tags": [],
            "needs_background": "light"
          }
        }
      ]
    },
    {
      "cell_type": "code",
      "metadata": {
        "id": "8uGIVC3qJ5UV",
        "colab_type": "code",
        "colab": {
          "base_uri": "https://localhost:8080/",
          "height": 350
        },
        "outputId": "33f344f7-ee2d-4dbf-dc87-4739faaa9530"
      },
      "source": [
        "#Problem 6(Volume R as X)\n",
        "plt.scatter(vol_Di_R, vol_Di_L)\n",
        "m=list(LogReg(vol_Di_R, vol_Di_L))\n",
        "\n",
        "t=np.linspace(3000,15000)\n",
        "plt.plot(t, m[0]*t+m[1], '--r' )"
      ],
      "execution_count": 19,
      "outputs": [
        {
          "output_type": "stream",
          "text": [
            "680.1175100671942\n",
            "0.9627048718978266\n",
            "1.0675677731655155\n",
            "-694.1809221478488\n"
          ],
          "name": "stdout"
        },
        {
          "output_type": "execute_result",
          "data": {
            "text/plain": [
              "[<matplotlib.lines.Line2D at 0x7f3669e0b358>]"
            ]
          },
          "metadata": {
            "tags": []
          },
          "execution_count": 19
        },
        {
          "output_type": "display_data",
          "data": {
            "image/png": "[encoded data removed]",
            "text/plain": [
              "<Figure size 432x288 with 1 Axes>"
            ]
          },
          "metadata": {
            "tags": [],
            "needs_background": "light"
          }
        }
      ]
    },
    {
      "cell_type": "code",
      "metadata": {
        "id": "Z__kAXe8HHmB",
        "colab_type": "code",
        "colab": {}
      },
      "source": [
        ""
      ],
      "execution_count": null,
      "outputs": []
    },
    {
      "cell_type": "markdown",
      "metadata": {
        "id": "6KwQkjOOtWvH",
        "colab_type": "text"
      },
      "source": [
        "Take Y and X and divide by respective SD's\n",
        "$Y_{norm}=[Y]/SD_Y$\n",
        "$X_{norm}=[X]/SD_X$\n",
        "\n",
        "(Let's regress X to Y; the same applies vice versa)\n",
        "Covariance of $(X_{norm}, Y_{norm})$= $\\frac{COV(X,Y)}{SD_Y*SD_X}$\n",
        "\n",
        "$SD_{X_{norm}}=\\frac{1}{SD_X{}}{SD_X}=1$\n",
        "\n",
        "Likewise for $SD_{Y_{norm}}=1$\n",
        "\n",
        "Therefore:\n",
        "\n",
        "$B_1=Cor(X_{norm},Y_{norm})\\frac{SD_{Y_{norm}}}{SD_{X_{norm}}}$\n",
        "\n",
        "$=\\frac{Cov(X_{norm},Y_{norm})}{{SD_{X_{norm}}{SD_{Y_{norm}}}}}{\\frac{SD_{Y_{norm}}}{SD_{X_{norm}}}}$\n",
        "\n",
        "Plugging in values from above:\n",
        "\n",
        "$=\\frac{COV(X,Y)}{{{SD_{Y}}{SD_{X}}}}$\n",
        "= correlation([X],[Y])"
      ]
    }
  ]
}